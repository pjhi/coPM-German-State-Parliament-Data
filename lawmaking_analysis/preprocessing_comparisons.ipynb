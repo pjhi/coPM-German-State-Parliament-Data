{
 "cells": [
  {
   "cell_type": "markdown",
   "metadata": {},
   "source": [
    "## Pre-processing to make data more comparable"
   ]
  },
  {
   "cell_type": "markdown",
   "metadata": {},
   "source": [
    "#### Brandenburg"
   ]
  },
  {
   "cell_type": "code",
   "execution_count": null,
   "metadata": {},
   "outputs": [
    {
     "data": {
      "application/vnd.jupyter.widget-view+json": {
       "model_id": "8b0df4c053f74dbb89099972730be759",
       "version_major": 2,
       "version_minor": 0
      },
      "text/plain": [
       "parsing log, completed traces ::   0%|          | 0/1005 [00:00<?, ?it/s]"
      ]
     },
     "metadata": {},
     "output_type": "display_data"
    }
   ],
   "source": [
    "import pm4py\n",
    "import pandas as pd\n",
    "import ast  # To safely evaluate string representations of lists\n",
    "\n",
    "ACTIVITY_COLUMN = 'concept:name'\n",
    "\n",
    "INPUT_FILENAME = \"baden-württemberg-preprocessed-gesetzgebung-gesetz-2006-2020.xes\"\n",
    "OUTPUT_FILENAME = 'baden-württemberg-preprocessed-gesetzgebung-gesetz-2006-2020_processed.xes'\n",
    "\n",
    "#INPUT_FILENAME = \"brandenburg-preprocessed-gesetzgebung-2006-2020.xes\"\n",
    "#OUTPUT_FILENAME = 'brandenburg-preprocessed-gesetzgebung-2006-2020_processed.xes'\n",
    "\n",
    "isBrandenburg = False\n",
    "#isBawue = True\n",
    "\n",
    "\n",
    "df = pm4py.read_xes(INPUT_FILENAME)"
   ]
  },
  {
   "cell_type": "markdown",
   "metadata": {},
   "source": [
    "Now I also split up all activities with several activity names in one -> just make two activities from them - e.g.: [Lesung, Sitzung] - copy the activity and then have one \"Lesung\" and one \"Sitzung\""
   ]
  },
  {
   "cell_type": "code",
   "execution_count": 19,
   "metadata": {},
   "outputs": [],
   "source": [
    "# Function to expand rows with list-like activity strings\n",
    "def expand_activity_rows(df):\n",
    "    rows = []\n",
    "    for _, row in df.iterrows():\n",
    "        activity_value = row[ACTIVITY_COLUMN]\n",
    "        try:\n",
    "            # Safely evaluate if the value is a string representation of a list\n",
    "            activities = ast.literal_eval(activity_value)\n",
    "            if isinstance(activities, list):\n",
    "                # Duplicate row for each item in the list\n",
    "                for activity in activities:\n",
    "                    new_row = row.copy()\n",
    "                    new_row[ACTIVITY_COLUMN] = activity\n",
    "                    rows.append(new_row)\n",
    "            else:\n",
    "                rows.append(row)\n",
    "        except (ValueError, SyntaxError):\n",
    "            # If not a list-like string, keep the row as-is\n",
    "            rows.append(row)\n",
    "    return pd.DataFrame(rows)\n",
    "\n",
    "# Apply the function to the DataFrame\n",
    "df = expand_activity_rows(df)\n"
   ]
  },
  {
   "cell_type": "markdown",
   "metadata": {},
   "source": [
    "### Brandenburg: enumerate readings (Lesung)"
   ]
  },
  {
   "cell_type": "code",
   "execution_count": 20,
   "metadata": {},
   "outputs": [],
   "source": [
    "# in the Brandenburg data there is no numbering to the Readings - they are just called \"Lesung\"\n",
    "# so to make the comparison easier, we number them\n",
    "\n",
    "# Function to enumerate \"Lesung\" activities\n",
    "def modify_labels(group):\n",
    "    # Identify rows where the activity is \"Lesung\"\n",
    "    lesung_mask = group['concept:name'] == 'Lesung'\n",
    "    # Enumerate the occurrences of \"Lesung\" within the group\n",
    "    lesung_counter = range(1, sum(lesung_mask) + 1)\n",
    "    # Update the activity column for \"Lesung\" rows\n",
    "    group.loc[lesung_mask, 'concept:name'] = [f'{n}. Lesung' for n in lesung_counter]\n",
    "    return group\n",
    "\n",
    "# Apply the function to each group of the DataFrame\n",
    "if isBrandenburg:\n",
    "    df = df.groupby(['case:concept:name']).apply(modify_labels).reset_index(drop=True)\n",
    "    print(df[df['concept:name'].str.contains('Lesung')].head(10)[\"concept:name\"])"
   ]
  },
  {
   "cell_type": "code",
   "execution_count": null,
   "metadata": {},
   "outputs": [],
   "source": [
    "'''\n",
    "if isBawue:\n",
    "    # since proM performance spectrum miner does not like it \",\" needs to be removed \n",
    "    df[ACTIVITY_COLUMN] = df[ACTIVITY_COLUMN].str.replace(',', '')\n",
    "    df[ACTIVITY_COLUMN] = df[ACTIVITY_COLUMN].str.lstrip()\n",
    "'''\n"
   ]
  },
  {
   "cell_type": "code",
   "execution_count": 22,
   "metadata": {},
   "outputs": [
    {
     "data": {
      "application/vnd.jupyter.widget-view+json": {
       "model_id": "493478867d2341fea8c3accddf920d04",
       "version_major": 2,
       "version_minor": 0
      },
      "text/plain": [
       "exporting log, completed traces ::   0%|          | 0/1005 [00:00<?, ?it/s]"
      ]
     },
     "metadata": {},
     "output_type": "display_data"
    }
   ],
   "source": [
    "pm4py.write_xes(df, OUTPUT_FILENAME)"
   ]
  }
 ],
 "metadata": {
  "kernelspec": {
   "display_name": "Python 3",
   "language": "python",
   "name": "python3"
  },
  "language_info": {
   "codemirror_mode": {
    "name": "ipython",
    "version": 3
   },
   "file_extension": ".py",
   "mimetype": "text/x-python",
   "name": "python",
   "nbconvert_exporter": "python",
   "pygments_lexer": "ipython3",
   "version": "3.8.10"
  }
 },
 "nbformat": 4,
 "nbformat_minor": 2
}
