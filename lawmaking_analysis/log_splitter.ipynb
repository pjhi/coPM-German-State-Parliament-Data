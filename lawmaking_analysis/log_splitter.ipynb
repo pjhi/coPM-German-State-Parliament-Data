{
 "cells": [
  {
   "cell_type": "code",
   "execution_count": 5,
   "metadata": {},
   "outputs": [
    {
     "data": {
      "application/vnd.jupyter.widget-view+json": {
       "model_id": "0637245fe84449caaefca3f85e636284",
       "version_major": 2,
       "version_minor": 0
      },
      "text/plain": [
       "parsing log, completed traces ::   0%|          | 0/839 [00:00<?, ?it/s]"
      ]
     },
     "metadata": {},
     "output_type": "display_data"
    }
   ],
   "source": [
    "import pandas as pd\n",
    "import pm4py\n",
    "\n",
    "INPUT_FILE_NAME = 'berlin-gesetzgebung-contained-2006-2020_with_context_2.xes'\n",
    "OUTPUT_FILE_NAME = 'berlin-gesetzgebung-contained-2006-2020_with_context_2'\n",
    "\n",
    "#INPUT_FILE_NAME = 'baden-württemberg-gesetzgebung-contained-2006-2020_with_context_2.xes'\n",
    "#OUTPUT_FILE_NAME = 'baden-württemberg-gesetzgebung-contained-2006-2020_with_context_2'\n",
    "\n",
    "#INPUT_FILE_NAME = 'brandenburg-gesetzgebung-contained-2006-2020_with_context_2.xes'\n",
    "#OUTPUT_FILE_NAME = 'brandenburg-gesetzgebung-contained-2006-2020_with_context_2'\n",
    "\n",
    "CASE_ID_COL = 'case:concept:name'\n",
    "TIMESTAMP_COL = 'time:timestamp'\n",
    "ACTIVITY_COL = 'concept:name'\n",
    "\n",
    "df = pm4py.read_xes(INPUT_FILE_NAME)"
   ]
  },
  {
   "cell_type": "code",
   "execution_count": null,
   "metadata": {},
   "outputs": [
    {
     "data": {
      "application/vnd.jupyter.widget-view+json": {
       "model_id": "49f29dce2b8a4a88a67d97c5e78e353e",
       "version_major": 2,
       "version_minor": 0
      },
      "text/plain": [
       "exporting log, completed traces ::   0%|          | 0/567 [00:00<?, ?it/s]"
      ]
     },
     "metadata": {},
     "output_type": "display_data"
    },
    {
     "data": {
      "application/vnd.jupyter.widget-view+json": {
       "model_id": "676533c579e748588fe99f6039bdb86c",
       "version_major": 2,
       "version_minor": 0
      },
      "text/plain": [
       "exporting log, completed traces ::   0%|          | 0/272 [00:00<?, ?it/s]"
      ]
     },
     "metadata": {},
     "output_type": "display_data"
    }
   ],
   "source": [
    "passed_bills_activities_berlin = ['Gesetz- und Verordnungsblatt', 'Bekanntmachung (Gesetz- und Verordnungsblatt)']\n",
    "passed_bills_activities_bawue = [\"Gesetz\", \"Gesetzblatt für Baden-Württemberg\"]\n",
    "passed_bills_activities_brandenburg = [\"Gesetz\", \"Gesetz- und Verordnungsblatt\"]\n",
    "\n",
    "possible_passed_bills_activities = passed_bills_activities_berlin + passed_bills_activities_bawue + passed_bills_activities_brandenburg\n",
    "\n",
    "\n",
    "\n",
    "df[\"is_passed_bill\"] = df.groupby(\"case:concept:name\")[\"concept:name\"].transform(lambda x: x.isin(possible_passed_bills_activities).any())\n",
    "\n",
    "# Create the DataFrame where 'is_passed_bill' is True\n",
    "df_with_value = df[df['is_passed_bill'] == True]\n",
    "\n",
    "# Create the DataFrame where 'is_passed_bill' is False\n",
    "df_without_value = df[df['is_passed_bill'] == False]\n",
    "\n",
    "pm4py.write_xes(df_with_value, OUTPUT_FILE_NAME + '_passed_bills.xes')\n",
    "#pm4py.write_xes(df_without_value, OUTPUT_FILE_NAME + '_not_passed_bills.xes')"
   ]
  }
 ],
 "metadata": {
  "kernelspec": {
   "display_name": "Python 3",
   "language": "python",
   "name": "python3"
  },
  "language_info": {
   "codemirror_mode": {
    "name": "ipython",
    "version": 3
   },
   "file_extension": ".py",
   "mimetype": "text/x-python",
   "name": "python",
   "nbconvert_exporter": "python",
   "pygments_lexer": "ipython3",
   "version": "3.8.10"
  }
 },
 "nbformat": 4,
 "nbformat_minor": 2
}
